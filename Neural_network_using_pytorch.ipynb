{
 "cells": [
  {
   "cell_type": "code",
   "execution_count": 1,
   "id": "577b15d4",
   "metadata": {},
   "outputs": [],
   "source": [
    "import torch\n",
    "import torch.nn as nn"
   ]
  },
  {
   "cell_type": "code",
   "execution_count": null,
   "id": "b158a523",
   "metadata": {},
   "outputs": [],
   "source": [
    "# pip3 install torch"
   ]
  },
  {
   "cell_type": "code",
   "execution_count": 29,
   "id": "9759c0a8",
   "metadata": {},
   "outputs": [],
   "source": [
    "n_input, n_hidden,n_out,batch_size,learning_rate = 10,15,1,100,0.01"
   ]
  },
  {
   "cell_type": "code",
   "execution_count": 30,
   "id": "791a27eb",
   "metadata": {},
   "outputs": [],
   "source": [
    "data_x = torch.randn(batch_size,n_input)"
   ]
  },
  {
   "cell_type": "code",
   "execution_count": 31,
   "id": "b1314dac",
   "metadata": {},
   "outputs": [
    {
     "data": {
      "text/plain": [
       "tensor([[ 1.6457e+00, -1.4377e-01, -3.8464e-01, -9.8637e-01,  1.4816e-01,\n",
       "          5.2408e-01,  1.3092e+00, -4.9817e-01, -2.0828e-01, -6.1353e-01],\n",
       "        [-3.0905e-01, -2.0185e-01,  1.5633e+00,  1.9083e+00, -7.2889e-01,\n",
       "          1.8268e+00, -3.2365e-01,  2.3033e-02, -3.3199e-01,  4.0371e-01],\n",
       "        [-9.9205e-01, -2.3501e-01, -1.5404e-01,  2.0508e+00,  4.9766e-01,\n",
       "         -3.5100e-01,  9.4129e-01, -1.5195e+00, -8.4356e-01, -1.0920e+00],\n",
       "        [-5.0293e-01,  9.8000e-01, -1.1386e+00,  8.8287e-01,  7.3094e-01,\n",
       "         -1.9446e-01, -2.4925e-01,  3.3920e-01, -7.1155e-01, -1.3558e+00],\n",
       "        [ 2.5888e+00,  9.2260e-02,  2.6684e-02, -4.0339e-01,  6.9440e-01,\n",
       "          2.3792e-01,  1.6511e-02, -4.8322e-01,  1.4915e+00,  8.3700e-02],\n",
       "        [-3.0145e-01, -1.5254e+00,  4.6287e-01,  1.8112e+00,  3.2110e-02,\n",
       "         -1.2476e+00, -4.6659e-01,  9.4128e-01,  2.3515e-01,  2.3368e-01],\n",
       "        [ 6.8965e-01, -4.7237e-01,  9.5477e-03, -3.5255e-01,  1.2594e+00,\n",
       "         -4.2793e-01, -7.9065e-02,  4.4828e-01,  5.9533e-01,  8.6900e-01],\n",
       "        [-7.9073e-01,  3.3905e-01,  2.5023e-02,  1.5551e-01,  9.2001e-02,\n",
       "          3.1464e-01, -3.6124e-01,  5.8244e-01,  5.2878e-01, -1.1957e+00],\n",
       "        [ 1.1939e+00, -1.3543e+00, -1.4535e+00,  1.6660e+00,  7.0735e-02,\n",
       "          1.0202e+00,  4.0947e-01, -1.3563e-01,  2.8648e-01, -1.7712e-01],\n",
       "        [-9.8539e-01, -2.3938e+00,  2.1037e+00,  2.6664e-01, -6.9441e-01,\n",
       "         -1.2746e+00,  9.0422e-01, -1.7633e-01,  8.8845e-02, -9.7532e-01],\n",
       "        [ 6.6741e-01,  6.0931e-01, -9.4632e-01,  3.0403e-01, -7.2674e-01,\n",
       "          7.7537e-01, -1.4615e+00,  4.4688e-01, -1.1935e-01,  1.2755e+00],\n",
       "        [ 6.9636e-01, -3.7738e-01,  7.3879e-02, -1.8741e-01,  1.2515e+00,\n",
       "         -1.3276e+00,  8.6760e-01,  8.5315e-02,  6.5131e-01, -2.9253e-01],\n",
       "        [-5.8163e-01,  7.1727e-01,  7.1703e-01, -7.7886e-01, -7.5531e-01,\n",
       "          1.6395e+00, -2.6679e-01, -1.2668e+00, -1.2339e+00, -2.0893e+00],\n",
       "        [ 9.9068e-01,  1.5357e+00, -1.4674e-01, -3.8827e-01, -8.3269e-01,\n",
       "          5.6952e-01, -3.0306e+00, -5.5272e-01, -1.4339e+00, -8.5034e-01],\n",
       "        [ 1.0848e+00, -9.0182e-02,  6.4569e-01,  1.8630e-01, -5.6555e-01,\n",
       "         -1.1648e+00, -8.1857e-01,  2.5395e-03,  3.1535e-01,  6.2314e-01],\n",
       "        [ 2.6827e-01, -2.5561e-01, -1.8982e+00, -1.7904e+00, -5.7241e-01,\n",
       "         -9.1114e-01,  1.6330e+00,  1.1872e-01,  5.4106e-01,  6.3178e-01],\n",
       "        [-9.2433e-01, -6.2888e-02, -1.5735e+00,  5.6214e-02, -3.8029e-01,\n",
       "          2.2986e+00,  1.6998e+00, -8.2506e-01, -4.8175e-01, -2.2221e+00],\n",
       "        [ 1.2428e+00,  5.1168e-01, -6.8144e-01,  2.0472e-01,  2.1007e+00,\n",
       "         -4.7504e-01,  1.5737e+00,  1.2529e+00, -5.2426e-01,  9.6452e-01],\n",
       "        [-3.2818e-01, -1.1462e+00, -9.8529e-01,  4.0537e-01,  6.2640e-01,\n",
       "         -1.7614e-01,  6.4754e-01,  1.1768e-01, -5.0045e-01,  1.2636e+00],\n",
       "        [-1.8075e+00, -5.4002e-02, -1.3094e-01, -7.9411e-01, -2.6722e-01,\n",
       "          4.1133e-01, -2.5786e-02, -2.3942e-01,  2.3410e+00, -1.2317e+00],\n",
       "        [-4.9929e-01,  1.5070e+00, -2.7655e-01,  1.1789e+00,  4.3375e-01,\n",
       "          7.3550e-01, -2.0041e-01, -1.0324e+00,  9.8241e-01,  4.6571e-01],\n",
       "        [ 4.9657e-02, -9.9753e-01, -1.7059e+00, -1.3133e+00,  9.9969e-01,\n",
       "          1.4070e+00,  5.6312e-01,  3.0296e-01,  6.5367e-01,  1.5975e+00],\n",
       "        [ 7.5016e-01,  1.4948e+00,  4.5150e-01, -1.2387e+00, -6.7249e-01,\n",
       "          4.1399e-01,  5.5438e-01, -7.7046e-01,  4.2531e-01, -1.1616e+00],\n",
       "        [ 1.0254e+00,  4.5106e-01,  4.4163e-01,  3.0834e-01, -1.1168e+00,\n",
       "          2.0471e+00, -1.3834e-01,  1.1181e+00, -4.0418e-01,  3.5406e-01],\n",
       "        [-3.0236e+00, -2.4273e+00, -3.3836e-01,  4.6331e-01,  1.1281e+00,\n",
       "         -7.2114e-03,  1.1950e+00,  8.3702e-01, -1.6141e-01, -4.7262e-01],\n",
       "        [ 2.1350e+00, -5.1250e-01, -3.5008e-01, -1.8107e-01, -1.1199e+00,\n",
       "          5.0832e-01, -8.0397e-01,  2.7767e-01,  1.9844e-01, -1.1619e+00],\n",
       "        [-2.3625e+00, -1.0607e+00, -2.8304e-01,  6.8208e-01, -1.2005e+00,\n",
       "          5.4987e-01,  6.2602e-01,  1.5897e+00, -4.2776e-01, -7.6558e-01],\n",
       "        [-9.0981e-01,  5.8457e-01, -2.0090e+00, -5.4948e-01,  2.4889e+00,\n",
       "         -2.9082e-01,  6.0491e-01, -1.0483e+00, -4.9761e-01,  3.4712e-01],\n",
       "        [ 3.6911e-01, -1.1795e+00, -6.2297e-01,  9.9706e-02,  7.0352e-01,\n",
       "          1.8254e+00,  1.7526e+00, -8.1371e-01,  8.3324e-01,  4.1963e-01],\n",
       "        [ 3.2794e-01,  8.8022e-01, -1.5283e+00, -5.3304e-01,  4.1035e-01,\n",
       "         -3.2821e-01, -2.7749e+00,  6.7511e-01,  3.9525e-01, -4.8418e-01],\n",
       "        [ 1.1417e+00, -1.5727e+00, -8.5747e-01, -9.2674e-01,  6.5626e-01,\n",
       "         -1.8896e+00,  4.4611e-01,  2.6147e-01, -7.6452e-01, -7.0524e-01],\n",
       "        [ 2.8350e-01,  9.8771e-01, -1.5321e-02, -7.7963e-01,  1.3071e+00,\n",
       "         -6.3895e-01, -2.0993e-01,  1.9790e-01, -1.3776e+00,  4.0200e-01],\n",
       "        [-1.8164e-01, -3.3928e-01, -5.6367e-01,  2.6107e-01, -7.9425e-01,\n",
       "          4.9806e-01, -7.6113e-01, -6.7636e-01,  8.1947e-01,  1.2660e+00],\n",
       "        [-4.5612e-01,  1.0749e+00, -4.8286e-01,  1.3694e+00,  8.4456e-01,\n",
       "          6.6434e-01,  8.8436e-01, -1.7315e+00, -2.6459e-01,  7.1859e-01],\n",
       "        [-9.8636e-01, -6.8238e-01,  1.5536e+00,  1.5199e+00, -2.5803e-01,\n",
       "         -2.1247e+00, -3.9725e-02,  1.7775e-02, -1.4291e+00, -6.3524e-02],\n",
       "        [ 9.1948e-01,  6.6542e-01,  1.6589e-01,  1.4208e+00, -9.3314e-01,\n",
       "          3.7260e-01, -9.5602e-01, -9.1255e-01,  7.7556e-01, -1.7574e+00],\n",
       "        [-1.0143e+00,  9.0404e-01, -1.9080e-01,  2.4961e-02,  4.6699e-01,\n",
       "         -4.5173e-01, -2.3921e-01, -4.4776e-01, -3.4871e-02,  2.2425e-01],\n",
       "        [ 4.7483e-01, -9.2721e-01,  4.9089e-01,  1.2761e+00, -4.3296e-01,\n",
       "          5.7992e-01,  2.4153e-01, -6.2201e-02,  4.9924e-01,  1.5306e+00],\n",
       "        [ 8.9618e-02, -8.5534e-01,  4.3332e-01, -3.5679e-01,  1.1625e+00,\n",
       "          1.0397e+00,  2.4882e-01,  9.0668e-01, -2.9088e-01, -8.8637e-02],\n",
       "        [ 1.4456e+00,  6.4924e-01,  2.2492e-01, -2.4681e-01,  3.0281e-01,\n",
       "          3.0635e-01,  2.0303e-02, -5.4046e-01, -4.8491e-01,  4.1811e-01],\n",
       "        [ 3.3356e-01, -3.1561e-01,  1.1645e+00,  1.0447e+00,  9.6085e-01,\n",
       "          4.3528e-02,  8.4049e-01, -2.8394e-02, -6.8127e-01, -3.0637e-01],\n",
       "        [ 1.7732e+00, -1.3634e+00, -1.1488e+00, -1.5460e+00, -6.8884e-01,\n",
       "         -2.7005e-01,  5.4852e-01,  7.1776e-01, -6.8965e-01, -2.5316e-01],\n",
       "        [ 1.4281e+00,  1.1558e+00, -1.7675e-01,  1.1053e-01,  1.4390e+00,\n",
       "         -2.3203e-01,  1.8175e+00,  5.9459e-01, -1.5191e-01, -7.2289e-01],\n",
       "        [-7.0132e-01, -2.7697e-01,  1.2166e+00,  2.7049e-01, -4.8823e-01,\n",
       "          2.5678e-01, -2.3756e-01,  3.3827e-01, -4.1111e-01, -7.8155e-02],\n",
       "        [ 7.0984e-01, -1.3091e+00, -2.0709e-01,  5.8924e-01, -7.5752e-01,\n",
       "         -2.4441e+00,  2.0052e-01,  7.8179e-01, -1.7318e+00,  8.6111e-01],\n",
       "        [-3.3333e-01, -1.9105e+00, -6.6450e-01, -3.9423e-01,  7.9388e-02,\n",
       "         -1.7887e+00, -8.6012e-01, -4.3210e-01,  4.1634e-01, -7.3235e-02],\n",
       "        [-1.2129e+00,  5.8684e-01, -2.9003e-01, -7.4973e-01,  9.8302e-01,\n",
       "         -1.3307e+00,  1.3055e+00, -1.1861e+00,  1.7722e+00, -2.1734e+00],\n",
       "        [ 7.0931e-01,  1.7890e-02, -1.9604e-01,  1.3194e+00, -8.6706e-01,\n",
       "         -3.7535e-01, -1.0069e-01, -6.5312e-01,  4.9076e-01,  9.5001e-01],\n",
       "        [-1.2542e+00, -6.7851e-01,  2.4251e-02, -1.3578e+00,  8.4072e-02,\n",
       "          1.4470e+00,  1.1617e-01,  2.0241e-01,  3.1741e-01, -2.7489e-01],\n",
       "        [-1.1851e-01, -2.3323e-01, -8.0750e-01,  5.5196e-01, -1.2542e+00,\n",
       "         -1.6176e+00,  3.3733e-01, -7.2266e-01,  3.4652e-01, -6.1675e-01],\n",
       "        [ 8.3598e-01, -9.1591e-01, -2.2600e+00, -1.0962e+00, -9.7767e-01,\n",
       "          1.5310e+00, -1.1256e+00, -4.7361e-01, -1.1763e+00, -9.6632e-01],\n",
       "        [-3.2841e-01, -8.1403e-01, -2.3194e-01,  6.0601e-01, -1.0099e+00,\n",
       "         -3.9881e-02,  1.3274e+00,  4.8567e-01, -1.0445e+00,  4.5119e-01],\n",
       "        [-8.0902e-01,  4.7717e-02,  3.5009e-01,  1.4123e-01, -7.6562e-01,\n",
       "          9.1935e-01,  4.3864e-01, -2.0270e+00,  1.0235e+00, -1.9240e-02],\n",
       "        [-5.1799e-01,  7.2437e-01, -3.2113e-01, -7.3967e-01,  9.1315e-01,\n",
       "         -1.0045e+00,  1.9528e+00,  2.1528e-01, -1.0730e+00,  1.8009e+00],\n",
       "        [ 4.2032e-01, -1.6757e+00, -6.6103e-01, -6.7851e-01,  1.5289e+00,\n",
       "         -8.4976e-01,  1.2194e+00, -1.2314e-01,  1.6152e-02,  6.9575e-01],\n",
       "        [ 1.7488e+00,  4.2638e-01, -1.0146e+00,  3.4693e-01, -5.2762e-01,\n",
       "          1.7553e+00,  6.0406e-02,  2.0491e-01, -5.3250e-01,  1.0510e+00],\n",
       "        [-8.4124e-01,  5.7027e-01, -3.0991e-01,  2.0451e-01,  1.1619e-01,\n",
       "          1.9360e+00,  8.1255e-02, -3.5140e-02, -9.0493e-01, -2.8080e-02],\n",
       "        [-4.0786e-01,  9.4688e-02, -9.9082e-01, -1.3545e+00, -9.7180e-01,\n",
       "          1.3234e-01, -4.2486e-02,  1.1918e+00,  1.5521e+00,  5.6200e-01],\n",
       "        [ 6.1571e-01,  3.7047e-01,  2.5533e-01, -1.0585e+00, -2.8932e-01,\n",
       "          6.2485e-01, -1.2062e+00, -7.6788e-01,  1.3911e-01, -3.6830e-01],\n",
       "        [ 1.5684e+00,  1.3172e+00, -1.0935e+00,  3.6747e-01,  1.6747e-01,\n",
       "         -1.0283e+00,  9.1397e-01, -4.0253e-01, -4.6961e-01, -4.1502e-01],\n",
       "        [-2.2357e+00, -3.8828e-01, -2.1556e+00,  1.1817e+00, -5.1547e-01,\n",
       "         -9.2277e-02,  9.9763e-01, -1.2706e-01,  8.5372e-01, -9.9391e-02],\n",
       "        [-2.1102e+00, -2.0416e-01,  1.1486e+00,  3.7842e-02, -1.5742e+00,\n",
       "          1.3930e+00,  7.6290e-01, -1.0000e+00, -4.4902e-01,  1.0247e-01],\n",
       "        [ 2.2601e-01,  1.9460e-01, -9.9285e-01, -2.5760e+00,  1.3262e+00,\n",
       "         -5.0032e-01, -7.6531e-01, -1.2629e+00, -6.5356e-02,  5.5856e-01],\n",
       "        [ 1.7358e+00,  2.1192e+00, -1.2986e-01, -1.1336e+00,  5.5135e-01,\n",
       "          1.0739e+00, -1.6215e-01, -1.1743e+00, -2.1041e+00, -1.8572e+00],\n",
       "        [ 2.1706e-01, -7.1761e-01, -1.4302e+00,  1.0993e+00, -1.3784e+00,\n",
       "          4.2582e-01,  5.8895e-01,  1.1688e+00, -7.2326e-01,  1.1402e+00],\n",
       "        [-5.7210e-01,  7.6796e-01,  2.8784e+00, -8.6275e-01, -6.2999e-02,\n",
       "         -7.1802e-01, -1.4561e+00,  2.8187e+00,  1.5686e+00, -1.6109e+00],\n",
       "        [ 4.7474e-01,  1.0301e+00, -2.1807e+00,  1.6058e+00, -1.0672e+00,\n",
       "         -1.7906e-02, -9.3952e-01, -4.3970e-01, -1.3708e+00, -6.1983e-01],\n",
       "        [-2.3452e-01, -6.4549e-01, -6.9457e-01, -8.4365e-01,  8.1257e-02,\n",
       "          9.3164e-01,  8.4499e-01,  3.4096e-01,  3.0441e-01,  4.6058e-01],\n",
       "        [ 4.8897e-01, -3.1018e-01,  7.4262e-02,  2.2860e+00,  6.6786e-01,\n",
       "         -1.0412e+00,  8.3778e-02,  1.9454e+00,  2.3994e-01,  1.3622e+00],\n",
       "        [ 4.9546e-01,  1.7083e+00, -5.6069e-01, -6.3053e-02,  9.4156e-01,\n",
       "         -4.1166e-01,  4.9959e-01, -8.7945e-01, -4.5620e-01, -1.7944e+00],\n",
       "        [-1.3436e+00,  8.0837e-01, -1.8021e-01, -2.3422e+00, -8.2321e-01,\n",
       "         -9.5653e-01,  7.1465e-01, -1.0585e+00, -6.1712e-01, -8.6122e-01],\n",
       "        [-1.0710e+00,  1.4784e+00,  2.0119e-01,  7.5912e-01,  7.4200e-01,\n",
       "          3.9245e-01, -4.1044e-01,  5.5270e-01, -2.0327e-01,  1.1495e+00],\n",
       "        [ 7.3746e-01, -1.4831e+00, -1.5429e+00,  1.2384e-01,  3.3498e-01,\n",
       "         -3.7464e-01,  1.0864e-01, -3.1254e-02, -9.8490e-01, -3.0266e-01],\n",
       "        [ 4.9200e-01, -1.3097e+00,  3.2232e-01, -5.3879e-01,  1.1733e+00,\n",
       "          1.4802e+00,  1.8471e+00, -9.4816e-01, -3.8830e-01,  3.3271e-01],\n",
       "        [-8.5870e-01, -4.2928e-01,  7.4347e-01, -5.1619e-01,  1.1712e+00,\n",
       "         -9.8159e-01, -1.8949e+00,  4.5016e-01, -1.3545e+00, -4.8765e-01],\n",
       "        [ 1.1906e+00,  1.5111e+00, -6.0640e-01,  1.6095e+00,  9.0376e-01,\n",
       "          9.8377e-01,  2.9410e-01, -3.3973e-02, -1.0187e+00, -3.2855e+00],\n",
       "        [-7.0448e-01,  7.3821e-01,  2.6297e-01, -5.2074e-01,  9.2505e-02,\n",
       "          1.6952e+00, -6.9319e-01, -4.1343e-01, -3.9474e-01, -3.5602e-01],\n",
       "        [-8.1663e-01, -1.2648e-01, -1.2088e-01, -2.6335e-01, -1.6376e-01,\n",
       "         -1.1001e+00, -3.8006e-01,  1.6601e-01,  5.1564e-01, -4.1110e-02],\n",
       "        [ 3.6976e-01,  1.3397e-02,  7.5937e-02, -3.8053e-01, -5.3611e-01,\n",
       "         -3.8630e-01,  8.1357e-01,  6.0726e-01,  2.4309e+00, -3.4477e-02],\n",
       "        [ 6.1364e-01, -2.9880e-01, -1.4506e+00,  3.3297e-01, -4.8464e-01,\n",
       "          3.5215e-01,  1.0150e-01, -2.1500e+00, -2.0455e-01, -1.2895e+00],\n",
       "        [-3.0473e-01, -6.3317e-01, -4.3582e-01, -1.1590e+00, -1.1839e+00,\n",
       "          2.7388e-02,  1.0198e+00,  8.0701e-01, -1.0999e+00,  7.8230e-01],\n",
       "        [ 6.2544e-01, -2.4137e-01, -1.2814e+00, -1.0939e+00,  2.5593e+00,\n",
       "         -2.1835e-01,  4.8952e-02, -1.1724e+00,  1.0261e+00, -3.5410e-01],\n",
       "        [ 2.3063e-01, -9.0603e-01,  6.9599e-01,  1.9501e-01, -8.0435e-01,\n",
       "          1.7848e+00,  9.2452e-01, -6.4790e-01, -1.4202e+00,  4.0861e-01],\n",
       "        [ 4.9815e-01,  2.4757e+00, -1.3397e+00,  7.5160e-01,  7.0337e-01,\n",
       "          1.7639e+00,  5.9138e-01, -7.8223e-01,  1.2328e+00,  1.0765e-01],\n",
       "        [ 1.4707e+00,  6.7146e-01,  1.8289e-01, -1.2698e+00,  7.9258e-01,\n",
       "         -1.0411e+00,  1.6372e-01, -4.4295e-01,  7.8239e-03, -8.5652e-01],\n",
       "        [-9.8798e-01,  8.4403e-01,  1.1990e+00, -5.1570e-01, -8.6194e-01,\n",
       "         -1.0725e+00,  4.8878e-01, -5.5529e-01,  9.6596e-01, -4.7831e-01],\n",
       "        [-7.5582e-01,  1.8146e-01,  1.6821e+00, -6.3556e-01, -1.2283e+00,\n",
       "         -3.7321e-01,  6.0308e-02,  1.0376e+00,  1.0529e+00, -7.2945e-02],\n",
       "        [ 4.7140e-01, -1.3602e+00,  6.7420e-01, -5.8508e-02,  9.0706e-01,\n",
       "         -2.8439e-01,  2.0116e+00, -1.8439e+00, -6.3609e-02,  4.4601e-01],\n",
       "        [ 4.9784e-01,  4.6054e-01,  2.8524e-01,  1.9980e-01,  1.4420e-01,\n",
       "         -7.3244e-01,  5.4407e-01,  5.9284e-02,  2.6349e-01,  1.3116e+00],\n",
       "        [ 2.4493e+00, -7.6876e-01, -5.4800e-01,  6.6055e-01, -2.7153e+00,\n",
       "         -1.1556e+00,  9.4189e-01, -3.5803e-01,  4.9558e-01,  5.1547e-01],\n",
       "        [-1.2664e+00, -2.2160e-01, -4.1780e-01,  1.0538e+00, -5.2892e-01,\n",
       "         -1.2620e-01, -1.0079e-01,  1.3845e+00,  1.6057e+00, -2.3178e-01],\n",
       "        [-1.2252e+00,  4.7761e-02, -1.8017e+00, -1.1659e+00,  1.7962e+00,\n",
       "         -1.4233e+00, -1.8544e+00,  1.0337e+00, -1.4067e+00, -4.0201e-01],\n",
       "        [-1.7064e+00, -1.3525e-01,  4.4559e-01,  8.0659e-01,  1.0525e+00,\n",
       "         -8.8466e-02, -1.3454e-01, -1.0394e+00, -2.4296e-01,  6.8903e-02],\n",
       "        [-8.5487e-02, -1.0296e+00, -6.6321e-01,  8.7164e-01, -8.8525e-01,\n",
       "          8.7512e-01, -2.6529e+00,  1.4516e+00,  1.0948e+00, -8.6312e-01],\n",
       "        [-9.5787e-01, -8.8407e-02, -5.9112e-02,  2.8383e-01, -3.2589e-01,\n",
       "         -1.0225e+00,  1.3270e+00,  9.0177e-01,  6.0958e-01,  1.7719e+00],\n",
       "        [-2.7577e-01,  5.1561e-01, -1.4482e-01, -1.2020e+00,  1.2085e+00,\n",
       "          6.6100e-01, -4.2479e-02, -9.3819e-01, -8.8281e-01,  5.4022e-01],\n",
       "        [ 4.4948e-01,  9.6987e-01,  1.7158e+00, -8.1794e-01,  1.0878e+00,\n",
       "          1.2216e-01,  1.3351e+00,  1.3879e-01,  8.2103e-01, -7.1390e-01],\n",
       "        [ 1.5237e+00, -1.5822e-01,  5.9861e-02, -1.1610e+00, -5.6209e-02,\n",
       "         -5.0429e-01, -1.3575e-01, -2.9938e-01, -1.6437e+00,  4.0910e-01],\n",
       "        [-1.1349e-01, -6.3210e-01, -2.2841e+00,  1.1787e+00,  5.7566e-01,\n",
       "         -1.6791e+00,  1.4882e+00, -1.5642e-01,  8.1321e-01, -1.4403e+00],\n",
       "        [-3.4180e-01, -8.8055e-01, -2.7631e-01, -5.6302e-01,  8.0837e-01,\n",
       "          2.3324e-01, -1.0458e-02, -5.4182e-01,  2.2998e-01,  3.7436e-01]])"
      ]
     },
     "execution_count": 31,
     "metadata": {},
     "output_type": "execute_result"
    }
   ],
   "source": [
    "data_x"
   ]
  },
  {
   "cell_type": "code",
   "execution_count": 32,
   "id": "bdac0eac",
   "metadata": {},
   "outputs": [],
   "source": [
    "data_y = (torch.rand(size = (batch_size,1))<0.5).float()"
   ]
  },
  {
   "cell_type": "code",
   "execution_count": 33,
   "id": "d4927830",
   "metadata": {},
   "outputs": [
    {
     "data": {
      "text/plain": [
       "tensor([[0.],\n",
       "        [0.],\n",
       "        [1.],\n",
       "        [1.],\n",
       "        [1.],\n",
       "        [0.],\n",
       "        [0.],\n",
       "        [1.],\n",
       "        [0.],\n",
       "        [1.],\n",
       "        [0.],\n",
       "        [0.],\n",
       "        [0.],\n",
       "        [1.],\n",
       "        [0.],\n",
       "        [0.],\n",
       "        [1.],\n",
       "        [1.],\n",
       "        [0.],\n",
       "        [1.],\n",
       "        [0.],\n",
       "        [1.],\n",
       "        [1.],\n",
       "        [0.],\n",
       "        [0.],\n",
       "        [0.],\n",
       "        [1.],\n",
       "        [1.],\n",
       "        [1.],\n",
       "        [0.],\n",
       "        [1.],\n",
       "        [1.],\n",
       "        [0.],\n",
       "        [1.],\n",
       "        [0.],\n",
       "        [0.],\n",
       "        [1.],\n",
       "        [0.],\n",
       "        [0.],\n",
       "        [0.],\n",
       "        [0.],\n",
       "        [1.],\n",
       "        [1.],\n",
       "        [1.],\n",
       "        [0.],\n",
       "        [0.],\n",
       "        [0.],\n",
       "        [1.],\n",
       "        [0.],\n",
       "        [0.],\n",
       "        [0.],\n",
       "        [0.],\n",
       "        [1.],\n",
       "        [0.],\n",
       "        [1.],\n",
       "        [0.],\n",
       "        [1.],\n",
       "        [1.],\n",
       "        [1.],\n",
       "        [1.],\n",
       "        [1.],\n",
       "        [1.],\n",
       "        [1.],\n",
       "        [1.],\n",
       "        [0.],\n",
       "        [0.],\n",
       "        [0.],\n",
       "        [0.],\n",
       "        [0.],\n",
       "        [0.],\n",
       "        [0.],\n",
       "        [0.],\n",
       "        [0.],\n",
       "        [0.],\n",
       "        [0.],\n",
       "        [0.],\n",
       "        [1.],\n",
       "        [1.],\n",
       "        [1.],\n",
       "        [1.],\n",
       "        [0.],\n",
       "        [1.],\n",
       "        [1.],\n",
       "        [0.],\n",
       "        [0.],\n",
       "        [0.],\n",
       "        [1.],\n",
       "        [1.],\n",
       "        [1.],\n",
       "        [0.],\n",
       "        [0.],\n",
       "        [1.],\n",
       "        [0.],\n",
       "        [0.],\n",
       "        [0.],\n",
       "        [0.],\n",
       "        [1.],\n",
       "        [0.],\n",
       "        [0.],\n",
       "        [1.]])"
      ]
     },
     "execution_count": 33,
     "metadata": {},
     "output_type": "execute_result"
    }
   ],
   "source": [
    "data_y"
   ]
  },
  {
   "cell_type": "code",
   "execution_count": 34,
   "id": "25eec8e8",
   "metadata": {},
   "outputs": [
    {
     "name": "stdout",
     "output_type": "stream",
     "text": [
      "torch.Size([100, 10])\n"
     ]
    }
   ],
   "source": [
    "print(data_x.size())"
   ]
  },
  {
   "cell_type": "code",
   "execution_count": 35,
   "id": "6972ca5e",
   "metadata": {},
   "outputs": [
    {
     "name": "stdout",
     "output_type": "stream",
     "text": [
      "torch.Size([100, 1])\n"
     ]
    }
   ],
   "source": [
    "print(data_y.size())"
   ]
  },
  {
   "cell_type": "code",
   "execution_count": 36,
   "id": "d785bf4a",
   "metadata": {},
   "outputs": [
    {
     "name": "stdout",
     "output_type": "stream",
     "text": [
      "Sequential(\n",
      "  (0): Linear(in_features=10, out_features=15, bias=True)\n",
      "  (1): ReLU()\n",
      "  (2): Linear(in_features=15, out_features=1, bias=True)\n",
      "  (3): Sigmoid()\n",
      ")\n"
     ]
    }
   ],
   "source": [
    "model = nn.Sequential(nn.Linear(n_input, n_hidden),\n",
    "                      nn.ReLU(),\n",
    "                      nn.Linear(n_hidden,n_out),\n",
    "                      nn.Sigmoid())\n",
    "print(model)"
   ]
  },
  {
   "cell_type": "code",
   "execution_count": 37,
   "id": "242eb196",
   "metadata": {},
   "outputs": [],
   "source": [
    "loss_function = nn.MSELoss()\n",
    "optimizer = torch.optim.SGD(model.parameters(), lr = learning_rate)"
   ]
  },
  {
   "cell_type": "code",
   "execution_count": 38,
   "id": "31ad8b8c",
   "metadata": {},
   "outputs": [],
   "source": [
    "losses = []\n",
    "for epoch in range(50000):\n",
    "    pred_y = model(data_x)\n",
    "    loss = loss_function(pred_y,data_y)\n",
    "    losses.append(loss.item())\n",
    "    \n",
    "    model.zero_grad()\n",
    "    loss.backward()\n",
    "    \n",
    "    optimizer.step()"
   ]
  },
  {
   "cell_type": "code",
   "execution_count": 39,
   "id": "f820654c",
   "metadata": {},
   "outputs": [
    {
     "data": {
      "image/png": "[encoded data removed]",
      "text/plain": [
       "<Figure size 640x480 with 1 Axes>"
      ]
     },
     "metadata": {},
     "output_type": "display_data"
    }
   ],
   "source": [
    "import matplotlib.pyplot as plt\n",
    "plt.plot(losses)\n",
    "plt.ylabel('loss')\n",
    "plt.xlabel('epoch')\n",
    "plt.title('Learning rate : 0.01')\n",
    "plt.show()"
   ]
  },
  {
   "cell_type": "code",
   "execution_count": null,
   "id": "72ee8e95",
   "metadata": {},
   "outputs": [],
   "source": []
  }
 ],
 "metadata": {
  "kernelspec": {
   "display_name": "Python 3 (ipykernel)",
   "language": "python",
   "name": "python3"
  },
  "language_info": {
   "codemirror_mode": {
    "name": "ipython",
    "version": 3
   },
   "file_extension": ".py",
   "mimetype": "text/x-python",
   "name": "python",
   "nbconvert_exporter": "python",
   "pygments_lexer": "ipython3",
   "version": "3.7.16"
  }
 },
 "nbformat": 4,
 "nbformat_minor": 5
}
